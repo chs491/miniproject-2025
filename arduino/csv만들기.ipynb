{
 "cells": [
  {
   "cell_type": "code",
   "execution_count": 1,
   "id": "a21a5bdf",
   "metadata": {},
   "outputs": [
    {
     "name": "stdout",
     "output_type": "stream",
     "text": [
      "CSV 파일 생성 완료!\n"
     ]
    }
   ],
   "source": [
    "import pandas as pd\n",
    "import random\n",
    "\n",
    "years = [2021, 2022, 2023, 2024, 2025]\n",
    "data = []\n",
    "\n",
    "for year in years:\n",
    "    for month in range(1, 13):\n",
    "        if year == 2025 and month > 6:  # 2025년 6월까지만 데이터\n",
    "            break\n",
    "        power = round(random.uniform(100.0, 200.0), 2)  # 100 ~ 200 kWh 랜덤 생성\n",
    "        data.append([year, month, power])\n",
    "\n",
    "df = pd.DataFrame(data, columns=['year', 'month', 'power_consumption'])\n",
    "df.to_csv('power_monthly.csv', index=False)\n",
    "print(\"CSV 파일 생성 완료!\")"
   ]
  },
  {
   "cell_type": "code",
   "execution_count": 3,
   "id": "5d4b5b67",
   "metadata": {},
   "outputs": [
    {
     "name": "stdout",
     "output_type": "stream",
     "text": [
      "1시간 단위 전력량 포함 CSV 파일 생성 완료!\n"
     ]
    }
   ],
   "source": [
    "import pandas as pd\n",
    "import random\n",
    "\n",
    "years = [2020, 2021, 2022, 2023, 2024, 2025]\n",
    "data = []\n",
    "\n",
    "for year in years:\n",
    "    for month in range(1, 13):\n",
    "        if year == 2025 and month > 6:  # 2025년 6월까지만 데이터\n",
    "            break\n",
    "\n",
    "        # 월별 총 전력 사용량 (kWh)\n",
    "        monthly_power = round(random.uniform(100.0, 200.0), 2)  # 100 ~ 200 kWh\n",
    "\n",
    "        # 1달 = 30일, 1일 = 24시간 → 총 720시간\n",
    "        total_hours = 30 * 24\n",
    "\n",
    "        # 시간당 전력량 평균 (monthly_power / 720) + 약간의 변동\n",
    "        hourly_powers = [round((monthly_power / total_hours) * random.uniform(0.9, 1.1), 3) for _ in range(total_hours)]\n",
    "\n",
    "        data.append([year, month, monthly_power, hourly_powers])\n",
    "\n",
    "# 데이터프레임 생성\n",
    "df = pd.DataFrame(data, columns=['year', 'month', 'monthly_power_consumption', 'hourly_power_consumption'])\n",
    "\n",
    "# hourly_power_consumption 컬럼은 list형 → 문자열로 변환하여 저장\n",
    "df['hourly_power_consumption'] = df['hourly_power_consumption'].apply(lambda x: str(x))\n",
    "\n",
    "# CSV 파일 저장\n",
    "df.to_csv('power_monthly_with_hourly.csv', index=False)\n",
    "print(\"1시간 단위 전력량 포함 CSV 파일 생성 완료!\")\n"
   ]
  },
  {
   "cell_type": "code",
   "execution_count": null,
   "id": "c087b072",
   "metadata": {},
   "outputs": [],
   "source": []
  }
 ],
 "metadata": {
  "kernelspec": {
   "display_name": "3.11.9",
   "language": "python",
   "name": "python3"
  },
  "language_info": {
   "codemirror_mode": {
    "name": "ipython",
    "version": 3
   },
   "file_extension": ".py",
   "mimetype": "text/x-python",
   "name": "python",
   "nbconvert_exporter": "python",
   "pygments_lexer": "ipython3",
   "version": "3.11.9"
  }
 },
 "nbformat": 4,
 "nbformat_minor": 5
}
