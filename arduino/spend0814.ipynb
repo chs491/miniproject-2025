{
 "cells": [
  {
   "cell_type": "code",
   "execution_count": 7,
   "id": "eeb5b68f",
   "metadata": {},
   "outputs": [
    {
     "name": "stdout",
     "output_type": "stream",
     "text": [
      "Requirement already satisfied: cryptography in c:\\users\\admin\\.pyenv\\pyenv-win\\versions\\3.11.9\\lib\\site-packages (45.0.6)\n",
      "Requirement already satisfied: cffi>=1.14 in c:\\users\\admin\\.pyenv\\pyenv-win\\versions\\3.11.9\\lib\\site-packages (from cryptography) (1.17.1)\n",
      "Requirement already satisfied: pycparser in c:\\users\\admin\\.pyenv\\pyenv-win\\versions\\3.11.9\\lib\\site-packages (from cffi>=1.14->cryptography) (2.22)\n",
      "Note: you may need to restart the kernel to use updated packages.\n"
     ]
    },
    {
     "name": "stderr",
     "output_type": "stream",
     "text": [
      "\n",
      "[notice] A new release of pip is available: 24.0 -> 25.2\n",
      "[notice] To update, run: c:\\Users\\Admin\\.pyenv\\pyenv-win\\versions\\3.11.9\\python.exe -m pip install --upgrade pip\n"
     ]
    }
   ],
   "source": [
    "pip install cryptography"
   ]
  },
  {
   "cell_type": "code",
   "execution_count": 9,
   "id": "dc258e53",
   "metadata": {},
   "outputs": [
    {
     "name": "stdout",
     "output_type": "stream",
     "text": [
      "Requirement already satisfied: PyMySQL[rsa] in c:\\users\\admin\\.pyenv\\pyenv-win\\versions\\3.11.9\\lib\\site-packages (1.1.1)\n",
      "Requirement already satisfied: cryptography in c:\\users\\admin\\.pyenv\\pyenv-win\\versions\\3.11.9\\lib\\site-packages (from PyMySQL[rsa]) (45.0.6)\n",
      "Requirement already satisfied: cffi>=1.14 in c:\\users\\admin\\.pyenv\\pyenv-win\\versions\\3.11.9\\lib\\site-packages (from cryptography->PyMySQL[rsa]) (1.17.1)\n",
      "Requirement already satisfied: pycparser in c:\\users\\admin\\.pyenv\\pyenv-win\\versions\\3.11.9\\lib\\site-packages (from cffi>=1.14->cryptography->PyMySQL[rsa]) (2.22)\n",
      "Note: you may need to restart the kernel to use updated packages.\n"
     ]
    },
    {
     "name": "stderr",
     "output_type": "stream",
     "text": [
      "\n",
      "[notice] A new release of pip is available: 24.0 -> 25.2\n",
      "[notice] To update, run: c:\\Users\\Admin\\.pyenv\\pyenv-win\\versions\\3.11.9\\python.exe -m pip install --upgrade pip\n"
     ]
    }
   ],
   "source": [
    "pip install PyMySQL[rsa]"
   ]
  },
  {
   "cell_type": "code",
   "execution_count": 12,
   "id": "2f1c1908",
   "metadata": {},
   "outputs": [
    {
     "name": "stderr",
     "output_type": "stream",
     "text": [
      "C:\\Users\\Admin\\AppData\\Local\\Temp\\ipykernel_6156\\2388948537.py:40: UserWarning: pandas only supports SQLAlchemy connectable (engine/connection) or database string URI or sqlite3 DBAPI2 connection. Other DBAPI2 objects are not tested. Please consider using SQLAlchemy.\n",
      "  df = pd.read_sql_query(\n"
     ]
    },
    {
     "name": "stdout",
     "output_type": "stream",
     "text": [
      "✅ 모델 로드 성공!\n",
      "실시간 전력 요금 예측 + MySQL 저장 시작... (Ctrl+C 종료)\n",
      "[2025-08-14 10:11:24] 예측 요금: 18,107원 → 1등급\n"
     ]
    },
    {
     "ename": "ProgrammingError",
     "evalue": "(1146, \"Table 'electric_db.시간' doesn't exist\")",
     "output_type": "error",
     "traceback": [
      "\u001b[1;31m---------------------------------------------------------------------------\u001b[0m",
      "\u001b[1;31mProgrammingError\u001b[0m                          Traceback (most recent call last)",
      "Cell \u001b[1;32mIn[12], line 134\u001b[0m\n\u001b[0;32m    129\u001b[0m cur \u001b[38;5;241m=\u001b[39m conn\u001b[38;5;241m.\u001b[39mcursor()\n\u001b[0;32m    130\u001b[0m insert_sql \u001b[38;5;241m=\u001b[39m \u001b[38;5;124mf\u001b[39m\u001b[38;5;124m\"\"\"\u001b[39m\n\u001b[0;32m    131\u001b[0m \u001b[38;5;124m    INSERT INTO \u001b[39m\u001b[38;5;132;01m{\u001b[39;00mTABLE_REALTIME\u001b[38;5;132;01m}\u001b[39;00m\u001b[38;5;124m (timestamp, usage_kwh, predicted_price, category)\u001b[39m\n\u001b[0;32m    132\u001b[0m \u001b[38;5;124m    VALUES (%s, %s, %s, %s)\u001b[39m\n\u001b[0;32m    133\u001b[0m \u001b[38;5;124m\u001b[39m\u001b[38;5;124m\"\"\"\u001b[39m\n\u001b[1;32m--> 134\u001b[0m \u001b[43mcur\u001b[49m\u001b[38;5;241;43m.\u001b[39;49m\u001b[43mexecute\u001b[49m\u001b[43m(\u001b[49m\u001b[43minsert_sql\u001b[49m\u001b[43m,\u001b[49m\u001b[43m \u001b[49m\u001b[43m(\u001b[49m\u001b[43mnow\u001b[49m\u001b[43m,\u001b[49m\u001b[43m \u001b[49m\u001b[43musage_kwh\u001b[49m\u001b[43m,\u001b[49m\u001b[43m \u001b[49m\u001b[43mpred_price\u001b[49m\u001b[43m,\u001b[49m\u001b[43m \u001b[49m\u001b[43mcategory\u001b[49m\u001b[43m)\u001b[49m\u001b[43m)\u001b[49m\n\u001b[0;32m    135\u001b[0m conn\u001b[38;5;241m.\u001b[39mcommit()\n\u001b[0;32m    136\u001b[0m conn\u001b[38;5;241m.\u001b[39mclose()\n",
      "File \u001b[1;32mc:\\Users\\Admin\\.pyenv\\pyenv-win\\versions\\3.11.9\\Lib\\site-packages\\pymysql\\cursors.py:153\u001b[0m, in \u001b[0;36mCursor.execute\u001b[1;34m(self, query, args)\u001b[0m\n\u001b[0;32m    149\u001b[0m     \u001b[38;5;28;01mpass\u001b[39;00m\n\u001b[0;32m    151\u001b[0m query \u001b[38;5;241m=\u001b[39m \u001b[38;5;28mself\u001b[39m\u001b[38;5;241m.\u001b[39mmogrify(query, args)\n\u001b[1;32m--> 153\u001b[0m result \u001b[38;5;241m=\u001b[39m \u001b[38;5;28;43mself\u001b[39;49m\u001b[38;5;241;43m.\u001b[39;49m\u001b[43m_query\u001b[49m\u001b[43m(\u001b[49m\u001b[43mquery\u001b[49m\u001b[43m)\u001b[49m\n\u001b[0;32m    154\u001b[0m \u001b[38;5;28mself\u001b[39m\u001b[38;5;241m.\u001b[39m_executed \u001b[38;5;241m=\u001b[39m query\n\u001b[0;32m    155\u001b[0m \u001b[38;5;28;01mreturn\u001b[39;00m result\n",
      "File \u001b[1;32mc:\\Users\\Admin\\.pyenv\\pyenv-win\\versions\\3.11.9\\Lib\\site-packages\\pymysql\\cursors.py:322\u001b[0m, in \u001b[0;36mCursor._query\u001b[1;34m(self, q)\u001b[0m\n\u001b[0;32m    320\u001b[0m conn \u001b[38;5;241m=\u001b[39m \u001b[38;5;28mself\u001b[39m\u001b[38;5;241m.\u001b[39m_get_db()\n\u001b[0;32m    321\u001b[0m \u001b[38;5;28mself\u001b[39m\u001b[38;5;241m.\u001b[39m_clear_result()\n\u001b[1;32m--> 322\u001b[0m \u001b[43mconn\u001b[49m\u001b[38;5;241;43m.\u001b[39;49m\u001b[43mquery\u001b[49m\u001b[43m(\u001b[49m\u001b[43mq\u001b[49m\u001b[43m)\u001b[49m\n\u001b[0;32m    323\u001b[0m \u001b[38;5;28mself\u001b[39m\u001b[38;5;241m.\u001b[39m_do_get_result()\n\u001b[0;32m    324\u001b[0m \u001b[38;5;28;01mreturn\u001b[39;00m \u001b[38;5;28mself\u001b[39m\u001b[38;5;241m.\u001b[39mrowcount\n",
      "File \u001b[1;32mc:\\Users\\Admin\\.pyenv\\pyenv-win\\versions\\3.11.9\\Lib\\site-packages\\pymysql\\connections.py:563\u001b[0m, in \u001b[0;36mConnection.query\u001b[1;34m(self, sql, unbuffered)\u001b[0m\n\u001b[0;32m    561\u001b[0m     sql \u001b[38;5;241m=\u001b[39m sql\u001b[38;5;241m.\u001b[39mencode(\u001b[38;5;28mself\u001b[39m\u001b[38;5;241m.\u001b[39mencoding, \u001b[38;5;124m\"\u001b[39m\u001b[38;5;124msurrogateescape\u001b[39m\u001b[38;5;124m\"\u001b[39m)\n\u001b[0;32m    562\u001b[0m \u001b[38;5;28mself\u001b[39m\u001b[38;5;241m.\u001b[39m_execute_command(COMMAND\u001b[38;5;241m.\u001b[39mCOM_QUERY, sql)\n\u001b[1;32m--> 563\u001b[0m \u001b[38;5;28mself\u001b[39m\u001b[38;5;241m.\u001b[39m_affected_rows \u001b[38;5;241m=\u001b[39m \u001b[38;5;28;43mself\u001b[39;49m\u001b[38;5;241;43m.\u001b[39;49m\u001b[43m_read_query_result\u001b[49m\u001b[43m(\u001b[49m\u001b[43munbuffered\u001b[49m\u001b[38;5;241;43m=\u001b[39;49m\u001b[43munbuffered\u001b[49m\u001b[43m)\u001b[49m\n\u001b[0;32m    564\u001b[0m \u001b[38;5;28;01mreturn\u001b[39;00m \u001b[38;5;28mself\u001b[39m\u001b[38;5;241m.\u001b[39m_affected_rows\n",
      "File \u001b[1;32mc:\\Users\\Admin\\.pyenv\\pyenv-win\\versions\\3.11.9\\Lib\\site-packages\\pymysql\\connections.py:825\u001b[0m, in \u001b[0;36mConnection._read_query_result\u001b[1;34m(self, unbuffered)\u001b[0m\n\u001b[0;32m    823\u001b[0m \u001b[38;5;28;01melse\u001b[39;00m:\n\u001b[0;32m    824\u001b[0m     result \u001b[38;5;241m=\u001b[39m MySQLResult(\u001b[38;5;28mself\u001b[39m)\n\u001b[1;32m--> 825\u001b[0m     \u001b[43mresult\u001b[49m\u001b[38;5;241;43m.\u001b[39;49m\u001b[43mread\u001b[49m\u001b[43m(\u001b[49m\u001b[43m)\u001b[49m\n\u001b[0;32m    826\u001b[0m \u001b[38;5;28mself\u001b[39m\u001b[38;5;241m.\u001b[39m_result \u001b[38;5;241m=\u001b[39m result\n\u001b[0;32m    827\u001b[0m \u001b[38;5;28;01mif\u001b[39;00m result\u001b[38;5;241m.\u001b[39mserver_status \u001b[38;5;129;01mis\u001b[39;00m \u001b[38;5;129;01mnot\u001b[39;00m \u001b[38;5;28;01mNone\u001b[39;00m:\n",
      "File \u001b[1;32mc:\\Users\\Admin\\.pyenv\\pyenv-win\\versions\\3.11.9\\Lib\\site-packages\\pymysql\\connections.py:1199\u001b[0m, in \u001b[0;36mMySQLResult.read\u001b[1;34m(self)\u001b[0m\n\u001b[0;32m   1197\u001b[0m \u001b[38;5;28;01mdef\u001b[39;00m\u001b[38;5;250m \u001b[39m\u001b[38;5;21mread\u001b[39m(\u001b[38;5;28mself\u001b[39m):\n\u001b[0;32m   1198\u001b[0m     \u001b[38;5;28;01mtry\u001b[39;00m:\n\u001b[1;32m-> 1199\u001b[0m         first_packet \u001b[38;5;241m=\u001b[39m \u001b[38;5;28;43mself\u001b[39;49m\u001b[38;5;241;43m.\u001b[39;49m\u001b[43mconnection\u001b[49m\u001b[38;5;241;43m.\u001b[39;49m\u001b[43m_read_packet\u001b[49m\u001b[43m(\u001b[49m\u001b[43m)\u001b[49m\n\u001b[0;32m   1201\u001b[0m         \u001b[38;5;28;01mif\u001b[39;00m first_packet\u001b[38;5;241m.\u001b[39mis_ok_packet():\n\u001b[0;32m   1202\u001b[0m             \u001b[38;5;28mself\u001b[39m\u001b[38;5;241m.\u001b[39m_read_ok_packet(first_packet)\n",
      "File \u001b[1;32mc:\\Users\\Admin\\.pyenv\\pyenv-win\\versions\\3.11.9\\Lib\\site-packages\\pymysql\\connections.py:775\u001b[0m, in \u001b[0;36mConnection._read_packet\u001b[1;34m(self, packet_type)\u001b[0m\n\u001b[0;32m    773\u001b[0m     \u001b[38;5;28;01mif\u001b[39;00m \u001b[38;5;28mself\u001b[39m\u001b[38;5;241m.\u001b[39m_result \u001b[38;5;129;01mis\u001b[39;00m \u001b[38;5;129;01mnot\u001b[39;00m \u001b[38;5;28;01mNone\u001b[39;00m \u001b[38;5;129;01mand\u001b[39;00m \u001b[38;5;28mself\u001b[39m\u001b[38;5;241m.\u001b[39m_result\u001b[38;5;241m.\u001b[39munbuffered_active \u001b[38;5;129;01mis\u001b[39;00m \u001b[38;5;28;01mTrue\u001b[39;00m:\n\u001b[0;32m    774\u001b[0m         \u001b[38;5;28mself\u001b[39m\u001b[38;5;241m.\u001b[39m_result\u001b[38;5;241m.\u001b[39munbuffered_active \u001b[38;5;241m=\u001b[39m \u001b[38;5;28;01mFalse\u001b[39;00m\n\u001b[1;32m--> 775\u001b[0m     \u001b[43mpacket\u001b[49m\u001b[38;5;241;43m.\u001b[39;49m\u001b[43mraise_for_error\u001b[49m\u001b[43m(\u001b[49m\u001b[43m)\u001b[49m\n\u001b[0;32m    776\u001b[0m \u001b[38;5;28;01mreturn\u001b[39;00m packet\n",
      "File \u001b[1;32mc:\\Users\\Admin\\.pyenv\\pyenv-win\\versions\\3.11.9\\Lib\\site-packages\\pymysql\\protocol.py:219\u001b[0m, in \u001b[0;36mMysqlPacket.raise_for_error\u001b[1;34m(self)\u001b[0m\n\u001b[0;32m    217\u001b[0m \u001b[38;5;28;01mif\u001b[39;00m DEBUG:\n\u001b[0;32m    218\u001b[0m     \u001b[38;5;28mprint\u001b[39m(\u001b[38;5;124m\"\u001b[39m\u001b[38;5;124merrno =\u001b[39m\u001b[38;5;124m\"\u001b[39m, errno)\n\u001b[1;32m--> 219\u001b[0m \u001b[43merr\u001b[49m\u001b[38;5;241;43m.\u001b[39;49m\u001b[43mraise_mysql_exception\u001b[49m\u001b[43m(\u001b[49m\u001b[38;5;28;43mself\u001b[39;49m\u001b[38;5;241;43m.\u001b[39;49m\u001b[43m_data\u001b[49m\u001b[43m)\u001b[49m\n",
      "File \u001b[1;32mc:\\Users\\Admin\\.pyenv\\pyenv-win\\versions\\3.11.9\\Lib\\site-packages\\pymysql\\err.py:150\u001b[0m, in \u001b[0;36mraise_mysql_exception\u001b[1;34m(data)\u001b[0m\n\u001b[0;32m    148\u001b[0m \u001b[38;5;28;01mif\u001b[39;00m errorclass \u001b[38;5;129;01mis\u001b[39;00m \u001b[38;5;28;01mNone\u001b[39;00m:\n\u001b[0;32m    149\u001b[0m     errorclass \u001b[38;5;241m=\u001b[39m InternalError \u001b[38;5;28;01mif\u001b[39;00m errno \u001b[38;5;241m<\u001b[39m \u001b[38;5;241m1000\u001b[39m \u001b[38;5;28;01melse\u001b[39;00m OperationalError\n\u001b[1;32m--> 150\u001b[0m \u001b[38;5;28;01mraise\u001b[39;00m errorclass(errno, errval)\n",
      "\u001b[1;31mProgrammingError\u001b[0m: (1146, \"Table 'electric_db.시간' doesn't exist\")"
     ]
    }
   ],
   "source": [
    "import numpy as np\n",
    "import pandas as pd\n",
    "import tensorflow as tf\n",
    "from tensorflow.keras.models import load_model, Sequential\n",
    "from tensorflow.keras.layers import LSTM, Dense\n",
    "from sklearn.preprocessing import MinMaxScaler\n",
    "import time\n",
    "import pymysql\n",
    "from datetime import datetime\n",
    "import random  # 더미 데이터 생성을 위해 추가\n",
    "\n",
    "# ===============================\n",
    "# 1. MySQL DB 연결 정보\n",
    "# ===============================\n",
    "DB_HOST = \"localhost\"\n",
    "DB_PORT = 3306\n",
    "DB_USER = \"root\"\n",
    "DB_PASS = \"12345\"\n",
    "DB_NAME = \"electric_db\"\n",
    "TABLE_HISTORY = \"전력량\"\n",
    "TABLE_REALTIME = \"시간\"\n",
    "\n",
    "def get_connection():\n",
    "    return pymysql.connect(\n",
    "        host=DB_HOST,\n",
    "        port=DB_PORT,\n",
    "        user=DB_USER,\n",
    "        password=DB_PASS,\n",
    "        database=DB_NAME,\n",
    "        charset=\"utf8\",\n",
    "        client_flag=pymysql.constants.CLIENT.MULTI_STATEMENTS,  # 다중 쿼리 허용\n",
    "        ssl_disabled=True,  # SSL 비활성화 (caching_sha2_password 방지)\n",
    "        auth_plugin_map={'caching_sha2_password':'mysql_native_password'}\n",
    "    )\n",
    "\n",
    "# ===============================\n",
    "# 2. 과거 데이터 불러오기 (경계값 계산)\n",
    "# ===============================\n",
    "conn = get_connection()\n",
    "df = pd.read_sql_query(\n",
    "    \"SELECT 시간, 전력량 FROM 전력량 ORDER BY 시간 ASC;\", \n",
    "    conn\n",
    ")\n",
    "conn.close()\n",
    "\n",
    "df.columns = ['date', 'price']\n",
    "df[\"price\"] = pd.to_numeric(df[\"price\"], errors=\"coerce\")  # 숫자 변환\n",
    "df = df.dropna(subset=[\"price\"])  # NaN 제거\n",
    "\n",
    "if df[\"price\"].empty:\n",
    "    raise ValueError(\"오류: 'price' 열에 데이터가 없습니다.\")\n",
    "\n",
    "scaler = MinMaxScaler()\n",
    "scaler.fit(df[\"price\"].values.reshape(-1, 1))\n",
    "\n",
    "boundaries = {\n",
    "    \"상위 5%\": np.percentile(df[\"price\"], 95),\n",
    "    \"상위 10%\": np.percentile(df[\"price\"], 90),\n",
    "    \"상위 25%\": np.percentile(df[\"price\"], 75),\n",
    "    \"하위 5%\": np.percentile(df[\"price\"], 5),\n",
    "    \"하위 10%\": np.percentile(df[\"price\"], 10),\n",
    "    \"하위 25%\": np.percentile(df[\"price\"], 25)\n",
    "}\n",
    "\n",
    "def classify_price(price):\n",
    "    if price >= boundaries[\"상위 5%\"]:\n",
    "        return \"1등급\"\n",
    "    elif price >= boundaries[\"상위 10%\"]:\n",
    "        return \"2등급\"\n",
    "    elif price >= boundaries[\"상위 25%\"]:\n",
    "        return \"3등급\"\n",
    "    elif price <= boundaries[\"하위 5%\"]:\n",
    "        return \"7등급\"\n",
    "    elif price <= boundaries[\"하위 10%\"]:\n",
    "        return \"6등급\"\n",
    "    elif price <= boundaries[\"하위 25%\"]:\n",
    "        return \"5등급\"\n",
    "    else:\n",
    "        return \"4등급\"\n",
    "\n",
    "# ===============================\n",
    "# 3. LSTM 모델 로드\n",
    "# ===============================\n",
    "MODEL_PATH = \"electricity_lstm_model.h5\"\n",
    "\n",
    "try:\n",
    "    model = load_model(MODEL_PATH, compile=False)  # 최신 Keras 호환\n",
    "    model.compile(optimizer='adam', loss='mse', metrics=['mae'])\n",
    "    print(\"✅ 모델 로드 성공!\")\n",
    "except Exception as e:\n",
    "    print(f\"❌ 모델 로드 실패: {e}\")\n",
    "    print(\"새 모델을 생성합니다...\")\n",
    "    model = Sequential([\n",
    "        LSTM(50, activation='relu', input_shape=(10, 1)),\n",
    "        Dense(1)\n",
    "    ])\n",
    "    model.compile(optimizer='adam', loss='mse', metrics=['mae'])\n",
    "    print(\"✅ 새 모델 생성 완료\")\n",
    "\n",
    "# ===============================\n",
    "# 4. 아두이노 대신 랜덤 데이터 생성\n",
    "# ===============================\n",
    "SEQ_LEN = 10\n",
    "recent_data = []\n",
    "\n",
    "print(\"실시간 전력 요금 예측 + MySQL 저장 시작... (Ctrl+C 종료)\")\n",
    "\n",
    "try:\n",
    "    while True:\n",
    "        # 더미 전력 사용량 (0.1~5.0 kWh 범위)\n",
    "        usage_kwh = round(random.uniform(0.1, 5.0), 2)\n",
    "        price = usage_kwh * 100  # 단가 100원/kWh\n",
    "        recent_data.append(price)\n",
    "\n",
    "        if len(recent_data) >= SEQ_LEN:\n",
    "            seq_input = np.array(recent_data[-SEQ_LEN:]).reshape(-1, 1)\n",
    "            seq_scaled = scaler.transform(seq_input)\n",
    "            seq_scaled = np.expand_dims(seq_scaled, axis=0)\n",
    "\n",
    "            pred_scaled = model.predict(seq_scaled, verbose=0)\n",
    "            pred_price = scaler.inverse_transform(pred_scaled)[0][0]\n",
    "\n",
    "            category = classify_price(pred_price)\n",
    "\n",
    "            now = datetime.now().strftime(\"%Y-%m-%d %H:%M:%S\")\n",
    "            print(f\"[{now}] 예측 요금: {pred_price:,.0f}원 → {category}\")\n",
    "\n",
    "            conn = get_connection()\n",
    "            cur = conn.cursor()\n",
    "            insert_sql = f\"\"\"\n",
    "                INSERT INTO {TABLE_REALTIME} (timestamp, usage_kwh, predicted_price, category)\n",
    "                VALUES (%s, %s, %s, %s)\n",
    "            \"\"\"\n",
    "            cur.execute(insert_sql, (now, usage_kwh, pred_price, category))\n",
    "            conn.commit()\n",
    "            conn.close()\n",
    "\n",
    "        time.sleep(1)\n",
    "\n",
    "except KeyboardInterrupt:\n",
    "    print(\"종료합니다.\")\n"
   ]
  },
  {
   "cell_type": "code",
   "execution_count": 15,
   "id": "a290bbc9",
   "metadata": {},
   "outputs": [
    {
     "name": "stderr",
     "output_type": "stream",
     "text": [
      "C:\\Users\\Admin\\AppData\\Local\\Temp\\ipykernel_6156\\2572121364.py:56: UserWarning: pandas only supports SQLAlchemy connectable (engine/connection) or database string URI or sqlite3 DBAPI2 connection. Other DBAPI2 objects are not tested. Please consider using SQLAlchemy.\n",
      "  df = pd.read_sql_query(\n"
     ]
    },
    {
     "name": "stdout",
     "output_type": "stream",
     "text": [
      "✅ 모델 로드 성공!\n",
      "실시간 전력 요금 예측 + MySQL 저장 시작... (Ctrl+C 종료)\n",
      "[2025-08-14 15:09:54] 예측 요금: 42,602원 → 2등급\n",
      "[2025-08-14 15:09:55] 예측 요금: 50,742원 → 1등급\n",
      "[2025-08-14 15:09:56] 예측 요금: 37,999원 → 3등급\n",
      "[2025-08-14 15:09:57] 예측 요금: 31,583원 → 3등급\n",
      "[2025-08-14 15:09:59] 예측 요금: 42,197원 → 2등급\n",
      "[2025-08-14 15:10:00] 예측 요금: 32,305원 → 3등급\n",
      "[2025-08-14 15:10:01] 예측 요금: 17,119원 → 5등급\n",
      "[2025-08-14 15:10:02] 예측 요금: 29,723원 → 4등급\n",
      "[2025-08-14 15:10:03] 예측 요금: 27,466원 → 4등급\n",
      "[2025-08-14 15:10:04] 예측 요금: 40,927원 → 2등급\n",
      "[2025-08-14 15:10:05] 예측 요금: 26,473원 → 4등급\n",
      "[2025-08-14 15:10:06] 예측 요금: 30,599원 → 3등급\n",
      "[2025-08-14 15:10:07] 예측 요금: 29,962원 → 4등급\n",
      "[2025-08-14 15:10:08] 예측 요금: 47,899원 → 2등급\n",
      "[2025-08-14 15:10:09] 예측 요금: 28,185원 → 4등급\n",
      "종료합니다.\n"
     ]
    }
   ],
   "source": [
    "import numpy as np\n",
    "import pandas as pd\n",
    "import tensorflow as tf\n",
    "from tensorflow.keras.models import load_model, Sequential\n",
    "from tensorflow.keras.layers import LSTM, Dense\n",
    "from sklearn.preprocessing import MinMaxScaler\n",
    "import time\n",
    "import pymysql\n",
    "from datetime import datetime\n",
    "import random\n",
    "\n",
    "# ===============================\n",
    "# 1. MySQL DB 연결 정보\n",
    "# ===============================\n",
    "DB_HOST = \"localhost\"\n",
    "DB_PORT = 3306\n",
    "DB_USER = \"root\"\n",
    "DB_PASS = \"12345\"\n",
    "DB_NAME = \"electric_db\"\n",
    "TABLE_HISTORY = \"전력량\"\n",
    "TABLE_REALTIME = \"시간\"  # 실시간 저장 테이블\n",
    "\n",
    "def get_connection():\n",
    "    return pymysql.connect(\n",
    "        host=DB_HOST,\n",
    "        port=DB_PORT,\n",
    "        user=DB_USER,\n",
    "        password=DB_PASS,\n",
    "        database=DB_NAME,\n",
    "        charset=\"utf8\"\n",
    "    )\n",
    "\n",
    "def ensure_table_exists():\n",
    "    \"\"\"TABLE_REALTIME 테이블이 없으면 자동 생성\"\"\"\n",
    "    conn = get_connection()\n",
    "    cur = conn.cursor()\n",
    "    create_sql = f\"\"\"\n",
    "    CREATE TABLE IF NOT EXISTS `{TABLE_REALTIME}` (\n",
    "        id INT AUTO_INCREMENT PRIMARY KEY,\n",
    "        timestamp DATETIME,\n",
    "        usage_kwh FLOAT,\n",
    "        predicted_price FLOAT,\n",
    "        category VARCHAR(10)\n",
    "    ) CHARACTER SET utf8mb4;\n",
    "    \"\"\"\n",
    "    cur.execute(create_sql)\n",
    "    conn.commit()\n",
    "    conn.close()\n",
    "\n",
    "# ===============================\n",
    "# 2. 과거 데이터 불러오기 (경계값 계산)\n",
    "# ===============================\n",
    "conn = get_connection()\n",
    "# 과거 데이터 테이블이 없으면 더미 데이터 생성\n",
    "try:\n",
    "    df = pd.read_sql_query(\n",
    "        f\"SELECT 시간, 전력량 FROM {TABLE_HISTORY} ORDER BY 시간 ASC;\",\n",
    "        conn\n",
    "    )\n",
    "except pymysql.err.ProgrammingError:\n",
    "    # 전력량 테이블 없으면 생성 + 더미 데이터 채우기\n",
    "    cur = conn.cursor()\n",
    "    cur.execute(f\"\"\"\n",
    "    CREATE TABLE IF NOT EXISTS `{TABLE_HISTORY}` (\n",
    "        시간 DATETIME,\n",
    "        전력량 FLOAT\n",
    "    ) CHARACTER SET utf8mb4;\n",
    "    \"\"\")\n",
    "    conn.commit()\n",
    "\n",
    "    now = datetime.now()\n",
    "    dummy_data = [\n",
    "        (now.replace(minute=0, second=0, microsecond=0) - pd.Timedelta(hours=i), round(random.uniform(0.5, 3.0), 2))\n",
    "        for i in range(100)\n",
    "    ]\n",
    "    cur.executemany(f\"INSERT INTO `{TABLE_HISTORY}` (시간, 전력량) VALUES (%s, %s)\", dummy_data)\n",
    "    conn.commit()\n",
    "\n",
    "    df = pd.DataFrame(dummy_data, columns=[\"date\", \"price\"])\n",
    "else:\n",
    "    df.columns = ['date', 'price']\n",
    "conn.close()\n",
    "\n",
    "df[\"price\"] = pd.to_numeric(df[\"price\"], errors=\"coerce\")\n",
    "df = df.dropna(subset=[\"price\"])\n",
    "\n",
    "if df[\"price\"].empty:\n",
    "    raise ValueError(\"오류: 'price' 열에 데이터가 없습니다.\")\n",
    "\n",
    "scaler = MinMaxScaler()\n",
    "scaler.fit(df[\"price\"].values.reshape(-1, 1))\n",
    "\n",
    "# boundaries = {\n",
    "#     \"상위 5%\": np.percentile(df[\"price\"], 95),\n",
    "#     \"상위 10%\": np.percentile(df[\"price\"], 90),\n",
    "#     \"상위 25%\": np.percentile(df[\"price\"], 75),\n",
    "#     \"하위 5%\": np.percentile(df[\"price\"], 5),\n",
    "#     \"하위 10%\": np.percentile(df[\"price\"], 10),\n",
    "#     \"하위 25%\": np.percentile(df[\"price\"], 25)\n",
    "# }\n",
    "\n",
    "boundaries = {\n",
    "    \"상위 5%\": 50000,\n",
    "    \"상위 10%\": 40000,\n",
    "    \"상위 25%\": 30000,\n",
    "    \"하위 5%\": 5000,\n",
    "    \"하위 10%\": 10000,\n",
    "    \"하위 25%\": 20000\n",
    "}\n",
    "\n",
    "\n",
    "def classify_price(price):\n",
    "    if price >= boundaries[\"상위 5%\"]:\n",
    "        return \"1등급\"\n",
    "    elif price >= boundaries[\"상위 10%\"]:\n",
    "        return \"2등급\"\n",
    "    elif price >= boundaries[\"상위 25%\"]:\n",
    "        return \"3등급\"\n",
    "    elif price <= boundaries[\"하위 5%\"]:\n",
    "        return \"7등급\"\n",
    "    elif price <= boundaries[\"하위 10%\"]:\n",
    "        return \"6등급\"\n",
    "    elif price <= boundaries[\"하위 25%\"]:\n",
    "        return \"5등급\"\n",
    "    else:\n",
    "        return \"4등급\"\n",
    "\n",
    "# ===============================\n",
    "# 3. LSTM 모델 로드\n",
    "# ===============================\n",
    "MODEL_PATH = \"electricity_lstm_model.h5\"\n",
    "\n",
    "try:\n",
    "    model = load_model(MODEL_PATH, compile=False)\n",
    "    model.compile(optimizer='adam', loss='mse', metrics=['mae'])\n",
    "    print(\"✅ 모델 로드 성공!\")\n",
    "except Exception as e:\n",
    "    print(f\"❌ 모델 로드 실패: {e}\")\n",
    "    print(\"새 모델을 생성합니다...\")\n",
    "    model = Sequential([\n",
    "        LSTM(50, activation='relu', input_shape=(10, 1)),\n",
    "        Dense(1)\n",
    "    ])\n",
    "    model.compile(optimizer='adam', loss='mse', metrics=['mae'])\n",
    "    print(\"✅ 새 모델 생성 완료\")\n",
    "\n",
    "# ===============================\n",
    "# 4. 실시간 예측 시작 (더미 데이터)\n",
    "# ===============================\n",
    "ensure_table_exists()\n",
    "SEQ_LEN = 10\n",
    "recent_data = []\n",
    "\n",
    "print(\"실시간 전력 요금 예측 + MySQL 저장 시작... (Ctrl+C 종료)\")\n",
    "\n",
    "try:\n",
    "    while True:\n",
    "        usage_kwh = round(random.uniform(0.1, 5.0), 2)\n",
    "        price = usage_kwh * 100\n",
    "        recent_data.append(price)\n",
    "\n",
    "        if len(recent_data) >= SEQ_LEN:\n",
    "            seq_input = np.array(recent_data[-SEQ_LEN:]).reshape(-1, 1)\n",
    "            seq_scaled = scaler.transform(seq_input)\n",
    "            seq_scaled = np.expand_dims(seq_scaled, axis=0)\n",
    "\n",
    "            pred_scaled = model.predict(seq_scaled, verbose=0)\n",
    "            pred_price = scaler.inverse_transform(pred_scaled)[0][0]\n",
    "\n",
    "            category = classify_price(pred_price)\n",
    "\n",
    "            now = datetime.now().strftime(\"%Y-%m-%d %H:%M:%S\")\n",
    "            print(f\"[{now}] 예측 요금: {pred_price:,.0f}원 → {category}\")\n",
    "\n",
    "            conn = get_connection()\n",
    "            cur = conn.cursor()\n",
    "            insert_sql = f\"\"\"\n",
    "                INSERT INTO `{TABLE_REALTIME}` (timestamp, usage_kwh, predicted_price, category)\n",
    "                VALUES (%s, %s, %s, %s)\n",
    "            \"\"\"\n",
    "            cur.execute(insert_sql, (now, usage_kwh, pred_price, category))\n",
    "            conn.commit()\n",
    "            conn.close()\n",
    "\n",
    "        time.sleep(1)\n",
    "\n",
    "except KeyboardInterrupt:\n",
    "    print(\"종료합니다.\")\n"
   ]
  },
  {
   "cell_type": "code",
   "execution_count": 14,
   "id": "9994872d",
   "metadata": {},
   "outputs": [
    {
     "data": {
      "text/html": [
       "<pre style=\"white-space:pre;overflow-x:auto;line-height:normal;font-family:Menlo,'DejaVu Sans Mono',consolas,'Courier New',monospace\"><span style=\"font-weight: bold\">Model: \"sequential_1\"</span>\n",
       "</pre>\n"
      ],
      "text/plain": [
       "\u001b[1mModel: \"sequential_1\"\u001b[0m\n"
      ]
     },
     "metadata": {},
     "output_type": "display_data"
    },
    {
     "data": {
      "text/html": [
       "<pre style=\"white-space:pre;overflow-x:auto;line-height:normal;font-family:Menlo,'DejaVu Sans Mono',consolas,'Courier New',monospace\">┏━━━━━━━━━━━━━━━━━━━━━━━━━━━━━━━━━┳━━━━━━━━━━━━━━━━━━━━━━━━┳━━━━━━━━━━━━━━━┓\n",
       "┃<span style=\"font-weight: bold\"> Layer (type)                    </span>┃<span style=\"font-weight: bold\"> Output Shape           </span>┃<span style=\"font-weight: bold\">       Param # </span>┃\n",
       "┡━━━━━━━━━━━━━━━━━━━━━━━━━━━━━━━━━╇━━━━━━━━━━━━━━━━━━━━━━━━╇━━━━━━━━━━━━━━━┩\n",
       "│ lstm_1 (<span style=\"color: #0087ff; text-decoration-color: #0087ff\">LSTM</span>)                   │ (<span style=\"color: #00d7ff; text-decoration-color: #00d7ff\">None</span>, <span style=\"color: #00af00; text-decoration-color: #00af00\">50</span>)             │        <span style=\"color: #00af00; text-decoration-color: #00af00\">10,400</span> │\n",
       "├─────────────────────────────────┼────────────────────────┼───────────────┤\n",
       "│ dense_1 (<span style=\"color: #0087ff; text-decoration-color: #0087ff\">Dense</span>)                 │ (<span style=\"color: #00d7ff; text-decoration-color: #00d7ff\">None</span>, <span style=\"color: #00af00; text-decoration-color: #00af00\">1</span>)              │            <span style=\"color: #00af00; text-decoration-color: #00af00\">51</span> │\n",
       "└─────────────────────────────────┴────────────────────────┴───────────────┘\n",
       "</pre>\n"
      ],
      "text/plain": [
       "┏━━━━━━━━━━━━━━━━━━━━━━━━━━━━━━━━━┳━━━━━━━━━━━━━━━━━━━━━━━━┳━━━━━━━━━━━━━━━┓\n",
       "┃\u001b[1m \u001b[0m\u001b[1mLayer (type)                   \u001b[0m\u001b[1m \u001b[0m┃\u001b[1m \u001b[0m\u001b[1mOutput Shape          \u001b[0m\u001b[1m \u001b[0m┃\u001b[1m \u001b[0m\u001b[1m      Param #\u001b[0m\u001b[1m \u001b[0m┃\n",
       "┡━━━━━━━━━━━━━━━━━━━━━━━━━━━━━━━━━╇━━━━━━━━━━━━━━━━━━━━━━━━╇━━━━━━━━━━━━━━━┩\n",
       "│ lstm_1 (\u001b[38;5;33mLSTM\u001b[0m)                   │ (\u001b[38;5;45mNone\u001b[0m, \u001b[38;5;34m50\u001b[0m)             │        \u001b[38;5;34m10,400\u001b[0m │\n",
       "├─────────────────────────────────┼────────────────────────┼───────────────┤\n",
       "│ dense_1 (\u001b[38;5;33mDense\u001b[0m)                 │ (\u001b[38;5;45mNone\u001b[0m, \u001b[38;5;34m1\u001b[0m)              │            \u001b[38;5;34m51\u001b[0m │\n",
       "└─────────────────────────────────┴────────────────────────┴───────────────┘\n"
      ]
     },
     "metadata": {},
     "output_type": "display_data"
    },
    {
     "data": {
      "text/html": [
       "<pre style=\"white-space:pre;overflow-x:auto;line-height:normal;font-family:Menlo,'DejaVu Sans Mono',consolas,'Courier New',monospace\"><span style=\"font-weight: bold\"> Total params: </span><span style=\"color: #00af00; text-decoration-color: #00af00\">10,451</span> (40.82 KB)\n",
       "</pre>\n"
      ],
      "text/plain": [
       "\u001b[1m Total params: \u001b[0m\u001b[38;5;34m10,451\u001b[0m (40.82 KB)\n"
      ]
     },
     "metadata": {},
     "output_type": "display_data"
    },
    {
     "data": {
      "text/html": [
       "<pre style=\"white-space:pre;overflow-x:auto;line-height:normal;font-family:Menlo,'DejaVu Sans Mono',consolas,'Courier New',monospace\"><span style=\"font-weight: bold\"> Trainable params: </span><span style=\"color: #00af00; text-decoration-color: #00af00\">10,451</span> (40.82 KB)\n",
       "</pre>\n"
      ],
      "text/plain": [
       "\u001b[1m Trainable params: \u001b[0m\u001b[38;5;34m10,451\u001b[0m (40.82 KB)\n"
      ]
     },
     "metadata": {},
     "output_type": "display_data"
    },
    {
     "data": {
      "text/html": [
       "<pre style=\"white-space:pre;overflow-x:auto;line-height:normal;font-family:Menlo,'DejaVu Sans Mono',consolas,'Courier New',monospace\"><span style=\"font-weight: bold\"> Non-trainable params: </span><span style=\"color: #00af00; text-decoration-color: #00af00\">0</span> (0.00 B)\n",
       "</pre>\n"
      ],
      "text/plain": [
       "\u001b[1m Non-trainable params: \u001b[0m\u001b[38;5;34m0\u001b[0m (0.00 B)\n"
      ]
     },
     "metadata": {},
     "output_type": "display_data"
    }
   ],
   "source": [
    "model.summary()"
   ]
  }
 ],
 "metadata": {
  "kernelspec": {
   "display_name": "3.11.9",
   "language": "python",
   "name": "python3"
  },
  "language_info": {
   "codemirror_mode": {
    "name": "ipython",
    "version": 3
   },
   "file_extension": ".py",
   "mimetype": "text/x-python",
   "name": "python",
   "nbconvert_exporter": "python",
   "pygments_lexer": "ipython3",
   "version": "3.11.9"
  }
 },
 "nbformat": 4,
 "nbformat_minor": 5
}
